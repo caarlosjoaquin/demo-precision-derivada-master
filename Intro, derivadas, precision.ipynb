{
 "cells": [
  {
   "cell_type": "markdown",
   "metadata": {},
   "source": [
    "# Error de truncación en el cálculo numérico"
   ]
  },
  {
   "cell_type": "markdown",
   "metadata": {},
   "source": [
    "La siguientes dos celdas importan un par de módulos de `python` que nos seran útiles. `math` contiene funciones y constantes matemáticas (ver `help(math)`) y `matplotlib` es una librería para hacer gráficos (ver [matplotlib](http://matplotlib.org), sobre todo la sección [galería](http://matplotlib.org/gallery.html)).\n",
    "\n",
    "La sequencia\n",
    "\n",
    "    import matplotlib.pyplot as plt\n",
    "    \n",
    "es bastante estándard en `python`. Lo que hace es importar el sub-módulo `pyplot` que pertenece a `matplotlib` y asignarle el alias `plt`. De este modo, cuando queramos accesar cualquier función que le pertenece al sub-modulo `pyplot`, deberemos hacerlo anteponiendo `plt` (por ejemplo: `plt.plot(...)`).\n",
    "\n",
    "La celda siguiente también importa `matplotlib` y le asigna un alias. Estos comandos son sólo útiles para efectos de la clase, para que los gráficos tengan labels legibles desde lejos."
   ]
  },
  {
   "cell_type": "code",
   "execution_count": 1,
   "metadata": {},
   "outputs": [],
   "source": [
    "%matplotlib inline \n",
    "import math\n",
    "import matplotlib.pyplot as plt"
   ]
  },
  {
   "cell_type": "code",
   "execution_count": 2,
   "metadata": {},
   "outputs": [],
   "source": [
    "import matplotlib as mp\n",
    "mp.rcParams['xtick.labelsize'] = 13\n",
    "mp.rcParams['ytick.labelsize'] = 13"
   ]
  },
  {
   "cell_type": "markdown",
   "metadata": {},
   "source": [
    "# Error de truncación\n",
    "\n",
    "Vamos a ver un ejemplo en el cálculo del número `e` como serie infinta truncada.\n",
    "\n",
    "### La forma básica de python"
   ]
  },
  {
   "cell_type": "code",
   "execution_count": 3,
   "metadata": {},
   "outputs": [],
   "source": [
    "e = 1.\n",
    "k_factorial = 1.\n",
    "N_max = 10\n",
    "e_vs_n = [e]\n",
    "\n",
    "for i in range(1, N_max):\n",
    "    k_factorial *= i\n",
    "    e += 1. / k_factorial\n",
    "    e_vs_n.append(e)"
   ]
  },
  {
   "cell_type": "code",
   "execution_count": 4,
   "metadata": {},
   "outputs": [
    {
     "name": "stdout",
     "output_type": "stream",
     "text": [
      "0 -> 1.0\n",
      "1 -> 2.0\n",
      "2 -> 2.5\n",
      "3 -> 2.6666666666666665\n",
      "4 -> 2.708333333333333\n",
      "5 -> 2.7166666666666663\n",
      "6 -> 2.7180555555555554\n",
      "7 -> 2.7182539682539684\n",
      "8 -> 2.71827876984127\n",
      "9 -> 2.7182815255731922\n"
     ]
    }
   ],
   "source": [
    "for i in range(N_max):\n",
    "    print(i, \"->\", e_vs_n[i])"
   ]
  },
  {
   "cell_type": "code",
   "execution_count": 5,
   "metadata": {},
   "outputs": [
    {
     "data": {
      "text/plain": [
       "Text(0,0.5,'$e_N$')"
      ]
     },
     "execution_count": 5,
     "metadata": {},
     "output_type": "execute_result"
    },
    {
     "data": {
      "image/png": "[encoded data removed]",
      "text/plain": [
       "<Figure size 432x288 with 1 Axes>"
      ]
     },
     "metadata": {
      "needs_background": "light"
     },
     "output_type": "display_data"
    }
   ],
   "source": [
    "plt.plot(range(N_max), e_vs_n)\n",
    "plt.axhline(math.e, color='0.5')\n",
    "plt.ylim(0, 3)\n",
    "plt.xlabel('N', fontsize=20)\n",
    "plt.ylabel('$e_N$', fontsize=20) # lo que aparece entre signos $ es sintáxis de 'Latex'"
   ]
  },
  {
   "cell_type": "markdown",
   "metadata": {},
   "source": [
    "## Mejorando el plot\n",
    "\n",
    "El plot anterior esta OK, pero lo que de verdad queremos ver es la diferencia entre $e_N$ y el verdadero `e` (que en realidad no es exacto pero estamos asumiendo que `math.e` es mucho mejor que nuestro propio cálculo). \n",
    "\n",
    "Un gráfico que muestra de mejor manera aquello en que estamos interesados (la diferencia entre $e_N$ y `math.e` requiere calcular `e_vs_n` - `math.e`. Pero debido a los `types` distintos, esta operación no resulta directamente en `python`."
   ]
  },
  {
   "cell_type": "code",
   "execution_count": 6,
   "metadata": {},
   "outputs": [
    {
     "ename": "TypeError",
     "evalue": "unsupported operand type(s) for -: 'list' and 'float'",
     "output_type": "error",
     "traceback": [
      "\u001b[0;31m---------------------------------------------------------------------------\u001b[0m",
      "\u001b[0;31mTypeError\u001b[0m                                 Traceback (most recent call last)",
      "\u001b[0;32m<ipython-input-6-759520f4409f>\u001b[0m in \u001b[0;36m<module>\u001b[0;34m\u001b[0m\n\u001b[0;32m----> 1\u001b[0;31m \u001b[0me_vs_n\u001b[0m \u001b[0;34m-\u001b[0m \u001b[0mmath\u001b[0m\u001b[0;34m.\u001b[0m\u001b[0me\u001b[0m\u001b[0;34m\u001b[0m\u001b[0;34m\u001b[0m\u001b[0m\n\u001b[0m",
      "\u001b[0;31mTypeError\u001b[0m: unsupported operand type(s) for -: 'list' and 'float'"
     ]
    }
   ],
   "source": [
    "e_vs_n - math.e"
   ]
  },
  {
   "cell_type": "markdown",
   "metadata": {},
   "source": [
    "Es necesario hacer una iteración y crear una nueva lista `diferencia_tmp` lo cual se logra con las siguientes 3 líneas:"
   ]
  },
  {
   "cell_type": "code",
   "execution_count": 7,
   "metadata": {},
   "outputs": [
    {
     "name": "stdout",
     "output_type": "stream",
     "text": [
      "0 -> -1.718281828459045\n",
      "1 -> -0.7182818284590451\n",
      "2 -> -0.2182818284590451\n",
      "3 -> -0.05161516179237857\n",
      "4 -> -0.009948495125712054\n",
      "5 -> -0.0016151617923787498\n",
      "6 -> -0.0002262729034896438\n",
      "7 -> -2.7860205076724043e-05\n",
      "8 -> -3.0586177750535626e-06\n",
      "9 -> -3.0288585284310443e-07\n"
     ]
    }
   ],
   "source": [
    "diferencia_tmp = []\n",
    "for e_i in e_vs_n:\n",
    "    diferencia_tmp.append(e_i - math.e)\n",
    "    \n",
    "for i in range(N_max):    \n",
    "    print(i, '->', diferencia_tmp[i])"
   ]
  },
  {
   "cell_type": "markdown",
   "metadata": {},
   "source": [
    "En la siguiente celda, la primera línea calcula una nueva lista `diferencia`, equivalente a la lista `diferencia_tmp` calculada previamente pero lo hace en sólo una línea. La sintáxis usada se llama `list comprehension`."
   ]
  },
  {
   "cell_type": "code",
   "execution_count": 8,
   "metadata": {},
   "outputs": [
    {
     "data": {
      "text/plain": [
       "Text(0,0.5,'$e_n - e_{real}$')"
      ]
     },
     "execution_count": 8,
     "metadata": {},
     "output_type": "execute_result"
    },
    {
     "data": {
      "image/png": "[encoded data removed]",
      "text/plain": [
       "<Figure size 432x288 with 1 Axes>"
      ]
     },
     "metadata": {
      "needs_background": "light"
     },
     "output_type": "display_data"
    }
   ],
   "source": [
    "diferencia = [math.fabs(e_i - math.e) for e_i in e_vs_n]\n",
    "plt.plot(range(N_max), diferencia)\n",
    "plt.yscale('log')\n",
    "plt.xlabel('N', fontsize=20)\n",
    "plt.ylabel('$e_n - e_{real}$', fontsize=20)"
   ]
  },
  {
   "cell_type": "markdown",
   "metadata": {},
   "source": [
    "Como podemos ver en el gráfico, la diferencia se acerca rápidamente a cero conforme crece N. Esta es una serie que converge rápido. Sin embargo, la convergencia no es la única limitación numérica de la cual preocuparse."
   ]
  },
  {
   "cell_type": "markdown",
   "metadata": {},
   "source": [
    "# Error de Redondeo\n",
    "\n",
    "Calcularemos la derivada de sin(x) en x=1 radian.\n",
    "\n",
    "### Ahora usaremos el módulo `numpy`."
   ]
  },
  {
   "cell_type": "code",
   "execution_count": 9,
   "metadata": {},
   "outputs": [],
   "source": [
    "import numpy as np"
   ]
  },
  {
   "cell_type": "code",
   "execution_count": 10,
   "metadata": {},
   "outputs": [
    {
     "name": "stdout",
     "output_type": "stream",
     "text": [
      "[1.e-01 1.e-02 1.e-03 1.e-04 1.e-05 1.e-06 1.e-07 1.e-08 1.e-09 1.e-10\n",
      " 1.e-11 1.e-12 1.e-13 1.e-14 1.e-15]\n"
     ]
    }
   ],
   "source": [
    "epsilon = np.logspace(-1, -15, 15, base=10.)\n",
    "print(epsilon)"
   ]
  },
  {
   "cell_type": "markdown",
   "metadata": {},
   "source": [
    "Noten que epsilo es ahora un _arreglo de numpy_. Su tipo es distinto al tipo `lista` que usamos antes para `e_vs_n`:"
   ]
  },
  {
   "cell_type": "code",
   "execution_count": 11,
   "metadata": {},
   "outputs": [
    {
     "name": "stdout",
     "output_type": "stream",
     "text": [
      "<class 'list'>\n",
      "<class 'numpy.ndarray'>\n"
     ]
    }
   ],
   "source": [
    "print(type(e_vs_n))\n",
    "print(type(epsilon))"
   ]
  },
  {
   "cell_type": "markdown",
   "metadata": {},
   "source": [
    "El tipo `np.ndarray` es mucho más fácil de usar porque ya esta `vectorizado`, es decir, las funciones básicas actúan como si fuese un vector.\n",
    "\n",
    "Notar que al final de la línea siguiente, el resultado es directamente un vector, no tuvimos que iterar sobre los elementos de `epsilon` (la iteración se hace automáticamente y además es más rápida)."
   ]
  },
  {
   "cell_type": "code",
   "execution_count": 12,
   "metadata": {},
   "outputs": [
    {
     "name": "stdout",
     "output_type": "stream",
     "text": [
      "[0.49736375 0.53608598 0.53988148 0.54026023 0.5402981  0.54030189\n",
      " 0.54030226 0.54030229 0.54030236 0.54030225 0.54030114 0.54034555\n",
      " 0.53956839 0.53290705 0.55511151]\n"
     ]
    }
   ],
   "source": [
    "dsindx = (np.sin(1.0 + epsilon) - np.sin(1.0)) / epsilon\n",
    "print(dsindx)"
   ]
  },
  {
   "cell_type": "code",
   "execution_count": 13,
   "metadata": {},
   "outputs": [
    {
     "data": {
      "image/png": "[encoded data removed]",
      "text/plain": [
       "<Figure size 432x288 with 1 Axes>"
      ]
     },
     "metadata": {
      "needs_background": "light"
     },
     "output_type": "display_data"
    }
   ],
   "source": [
    "plt.plot(epsilon, dsindx - np.cos(1.))\n",
    "plt.xscale('log')\n",
    "plt.axhline(0, color='0.8')\n",
    "plt.xlabel('epsilon', fontsize=20)\n",
    "plt.ylabel('$\\\\frac{d}{dx}sin(x) - cos(x)$', fontsize=20)\n",
    "_ = plt.xticks(epsilon[::2])"
   ]
  },
  {
   "cell_type": "markdown",
   "metadata": {},
   "source": [
    "En el plot anterior notamos dos cosas.\n",
    "\n",
    "- La diferencia decae cuando `epsilon` se achica.\n",
    "- pero luego vuelve a crecer cuando `epsilon` se achica demasiado.\n",
    "\n",
    "En realidad el comportamiento _plano_ que parece apreciarse en el plot anterior, es ficticio, un artefacto de nuestra escala de ploteo. Veamos el mismo plot en escala logarítmica:"
   ]
  },
  {
   "cell_type": "code",
   "execution_count": 14,
   "metadata": {},
   "outputs": [
    {
     "data": {
      "image/png": "[encoded data removed]",
      "text/plain": [
       "<Figure size 432x288 with 1 Axes>"
      ]
     },
     "metadata": {
      "needs_background": "light"
     },
     "output_type": "display_data"
    }
   ],
   "source": [
    "plt.plot(epsilon, np.fabs(dsindx - np.cos(1.)))\n",
    "plt.xscale('log')\n",
    "plt.yscale('log')\n",
    "plt.ylim(1e-10, 1e-1)\n",
    "plt.axhline(0)\n",
    "plt.xlabel('epsilon', fontsize=20)\n",
    "plt.ylabel('$\\\\frac{d}{dx}sin(x) - cos(x)$', fontsize=20)\n",
    "_ = plt.xticks(epsilon[::2])"
   ]
  },
  {
   "cell_type": "markdown",
   "metadata": {},
   "source": [
    "## Machine epsilon (limite a nuestra precisión numérica)\n",
    "\n",
    "La función que aparece en la siguiente celda muestra un resumen de los valores asociados a la precisión de nuestros cálculos. La siguiente celda muestra información extra que siempre puede obtenerse a través de la función `help`."
   ]
  },
  {
   "cell_type": "code",
   "execution_count": 15,
   "metadata": {
    "scrolled": true
   },
   "outputs": [
    {
     "name": "stdout",
     "output_type": "stream",
     "text": [
      "Machine parameters for float64\n",
      "---------------------------------------------------------------\n",
      "precision =  15   resolution = 1.0000000000000001e-15\n",
      "machep =    -52   eps =        2.2204460492503131e-16\n",
      "negep =     -53   epsneg =     1.1102230246251565e-16\n",
      "minexp =  -1022   tiny =       2.2250738585072014e-308\n",
      "maxexp =   1024   max =        1.7976931348623157e+308\n",
      "nexp =       11   min =        -max\n",
      "---------------------------------------------------------------\n",
      "\n"
     ]
    }
   ],
   "source": [
    "print(np.finfo(float))"
   ]
  },
  {
   "cell_type": "code",
   "execution_count": 16,
   "metadata": {},
   "outputs": [
    {
     "name": "stdout",
     "output_type": "stream",
     "text": [
      "Help on class finfo in module numpy:\n",
      "\n",
      "class finfo(builtins.object)\n",
      " |  finfo(dtype)\n",
      " |  \n",
      " |  finfo(dtype)\n",
      " |  \n",
      " |  Machine limits for floating point types.\n",
      " |  \n",
      " |  Attributes\n",
      " |  ----------\n",
      " |  bits : int\n",
      " |      The number of bits occupied by the type.\n",
      " |  eps : float\n",
      " |      The smallest representable positive number such that\n",
      " |      ``1.0 + eps != 1.0``.  Type of `eps` is an appropriate floating\n",
      " |      point type.\n",
      " |  epsneg : floating point number of the appropriate type\n",
      " |      The smallest representable positive number such that\n",
      " |      ``1.0 - epsneg != 1.0``.\n",
      " |  iexp : int\n",
      " |      The number of bits in the exponent portion of the floating point\n",
      " |      representation.\n",
      " |  machar : MachAr\n",
      " |      The object which calculated these parameters and holds more\n",
      " |      detailed information.\n",
      " |  machep : int\n",
      " |      The exponent that yields `eps`.\n",
      " |  max : floating point number of the appropriate type\n",
      " |      The largest representable number.\n",
      " |  maxexp : int\n",
      " |      The smallest positive power of the base (2) that causes overflow.\n",
      " |  min : floating point number of the appropriate type\n",
      " |      The smallest representable number, typically ``-max``.\n",
      " |  minexp : int\n",
      " |      The most negative power of the base (2) consistent with there\n",
      " |      being no leading 0's in the mantissa.\n",
      " |  negep : int\n",
      " |      The exponent that yields `epsneg`.\n",
      " |  nexp : int\n",
      " |      The number of bits in the exponent including its sign and bias.\n",
      " |  nmant : int\n",
      " |      The number of bits in the mantissa.\n",
      " |  precision : int\n",
      " |      The approximate number of decimal digits to which this kind of\n",
      " |      float is precise.\n",
      " |  resolution : floating point number of the appropriate type\n",
      " |      The approximate decimal resolution of this type, i.e.,\n",
      " |      ``10**-precision``.\n",
      " |  tiny : float\n",
      " |      The smallest positive usable number.  Type of `tiny` is an\n",
      " |      appropriate floating point type.\n",
      " |  \n",
      " |  Parameters\n",
      " |  ----------\n",
      " |  dtype : float, dtype, or instance\n",
      " |      Kind of floating point data-type about which to get information.\n",
      " |  \n",
      " |  See Also\n",
      " |  --------\n",
      " |  MachAr : The implementation of the tests that produce this information.\n",
      " |  iinfo : The equivalent for integer data types.\n",
      " |  \n",
      " |  Notes\n",
      " |  -----\n",
      " |  For developers of NumPy: do not instantiate this at the module level.\n",
      " |  The initial calculation of these parameters is expensive and negatively\n",
      " |  impacts import times.  These objects are cached, so calling ``finfo()``\n",
      " |  repeatedly inside your functions is not a problem.\n",
      " |  \n",
      " |  Methods defined here:\n",
      " |  \n",
      " |  __repr__(self)\n",
      " |      Return repr(self).\n",
      " |  \n",
      " |  __str__(self)\n",
      " |      Return str(self).\n",
      " |  \n",
      " |  ----------------------------------------------------------------------\n",
      " |  Static methods defined here:\n",
      " |  \n",
      " |  __new__(cls, dtype)\n",
      " |      Create and return a new object.  See help(type) for accurate signature.\n",
      " |  \n",
      " |  ----------------------------------------------------------------------\n",
      " |  Data descriptors defined here:\n",
      " |  \n",
      " |  __dict__\n",
      " |      dictionary for instance variables (if defined)\n",
      " |  \n",
      " |  __weakref__\n",
      " |      list of weak references to the object (if defined)\n",
      "\n"
     ]
    }
   ],
   "source": [
    "help(np.finfo)"
   ]
  },
  {
   "cell_type": "markdown",
   "metadata": {},
   "source": [
    "Revisen la ayuda y vean por qué las siguientes dos líneas tienen sentido:"
   ]
  },
  {
   "cell_type": "code",
   "execution_count": 17,
   "metadata": {},
   "outputs": [
    {
     "name": "stdout",
     "output_type": "stream",
     "text": [
      "False\n",
      "True\n"
     ]
    }
   ],
   "source": [
    "print((1. + np.finfo(float).eps) == 1)\n",
    "print((1. + np.finfo(float).eps/2.) == 1)"
   ]
  },
  {
   "cell_type": "markdown",
   "metadata": {},
   "source": [
    "Noten que por defecto `numpy` usa `double floats`, o sea, racionales de doble precisión (en otros lenguages se llaman simplemente `doubles` y se le llama `floats` a los de precisión simple. En `numpy` los floats de precisión simple también existen (`np.float32`). Dependiendo de la máquina, incluso a veces están disponibles los `np.float128`."
   ]
  },
  {
   "cell_type": "code",
   "execution_count": 18,
   "metadata": {},
   "outputs": [
    {
     "name": "stdout",
     "output_type": "stream",
     "text": [
      "Machine parameters for float32\n",
      "---------------------------------------------------------------\n",
      "precision =   6   resolution = 1.0000000e-06\n",
      "machep =    -23   eps =        1.1920929e-07\n",
      "negep =     -24   epsneg =     5.9604645e-08\n",
      "minexp =   -126   tiny =       1.1754944e-38\n",
      "maxexp =    128   max =        3.4028235e+38\n",
      "nexp =        8   min =        -max\n",
      "---------------------------------------------------------------\n",
      "\n"
     ]
    }
   ],
   "source": [
    "print(np.finfo(np.float32))"
   ]
  },
  {
   "cell_type": "markdown",
   "metadata": {},
   "source": [
    "# Un mejor algoritmo para la derivada\n",
    "\n",
    "Muchas veces se puede mejorar la precisión del cálculo modificando el algoritmo. Esto nos ayuda siempre en el caso de que `epsilon` no sea lo suficientemente pequeño pero es inútil cuando nos acercamos al límite de precisión de la máquina. Ver el siguiente ejemplo."
   ]
  },
  {
   "cell_type": "code",
   "execution_count": 19,
   "metadata": {},
   "outputs": [
    {
     "data": {
      "image/png": "[encoded data removed]",
      "text/plain": [
       "<Figure size 432x288 with 1 Axes>"
      ]
     },
     "metadata": {
      "needs_background": "light"
     },
     "output_type": "display_data"
    }
   ],
   "source": [
    "dsindx_mejorado = (np.sin(1.0 + epsilon) - np.sin(1.0 - epsilon)) / (2 * epsilon)\n",
    "\n",
    "plt.plot(epsilon, np.fabs(dsindx_mejorado - np.cos(1.)), color='g', label=\"Derivada simetrica\")\n",
    "plt.plot(epsilon, np.fabs(dsindx - np.cos(1.)), color='b', label=\"Derivada simple\")\n",
    "plt.xscale('log')\n",
    "plt.yscale('log')\n",
    "plt.ylim(1e-12, 1e-1)\n",
    "plt.axhline(0)\n",
    "plt.xlabel('epsilon', fontsize=20)\n",
    "plt.ylabel('$\\\\frac{d}{dx}sin(x) - cos(x)$', fontsize=20)\n",
    "plt.legend(loc='lower left')\n",
    "_ = plt.xticks(epsilon[::2])"
   ]
  },
  {
   "cell_type": "markdown",
   "metadata": {},
   "source": [
    "### ¿Qué pasaría si usáramos números de mayor precisión?"
   ]
  }
 ],
 "metadata": {
  "kernelspec": {
   "display_name": "Python 3",
   "language": "python",
   "name": "python3"
  },
  "language_info": {
   "codemirror_mode": {
    "name": "ipython",
    "version": 3
   },
   "file_extension": ".py",
   "mimetype": "text/x-python",
   "name": "python",
   "nbconvert_exporter": "python",
   "pygments_lexer": "ipython3",
   "version": "3.7.3"
  }
 },
 "nbformat": 4,
 "nbformat_minor": 1
}
